{
 "cells": [
  {
   "cell_type": "markdown",
   "metadata": {
    "id": "pWTsba3PfxaD"
   },
   "source": [
    "“What are the top trending tags appearing in StackOverFlow this month?”\n",
    "\n",
    "\n",
    "\n",
    "A pythonic interpretation. \n",
    "\n",
    "Can be hooked on to airflow to run on a set cadence. "
   ]
  },
  {
   "cell_type": "code",
   "execution_count": null,
   "metadata": {
    "colab": {
     "base_uri": "https://localhost:8080/"
    },
    "id": "qAU1riDdbhn2",
    "outputId": "a9c11136-7f30-46e2-a374-2ce16c2b179f"
   },
   "outputs": [
    {
     "name": "stdout",
     "output_type": "stream",
     "text": [
      "Requirement already satisfied: pyspark in /usr/local/lib/python3.7/dist-packages (3.1.2)\n",
      "Requirement already satisfied: py4j==0.10.9 in /usr/local/lib/python3.7/dist-packages (from pyspark) (0.10.9)\n",
      "Requirement already satisfied: stackapi in /usr/local/lib/python3.7/dist-packages (0.2.0)\n",
      "Requirement already satisfied: requests in /usr/local/lib/python3.7/dist-packages (from stackapi) (2.23.0)\n",
      "Requirement already satisfied: six in /usr/local/lib/python3.7/dist-packages (from stackapi) (1.15.0)\n",
      "Requirement already satisfied: certifi>=2017.4.17 in /usr/local/lib/python3.7/dist-packages (from requests->stackapi) (2020.12.5)\n",
      "Requirement already satisfied: chardet<4,>=3.0.2 in /usr/local/lib/python3.7/dist-packages (from requests->stackapi) (3.0.4)\n",
      "Requirement already satisfied: urllib3!=1.25.0,!=1.25.1,<1.26,>=1.21.1 in /usr/local/lib/python3.7/dist-packages (from requests->stackapi) (1.24.3)\n",
      "Requirement already satisfied: idna<3,>=2.5 in /usr/local/lib/python3.7/dist-packages (from requests->stackapi) (2.10)\n"
     ]
    }
   ],
   "source": [
    "# documentation for the API\n",
    "# https://stackapi.readthedocs.io/en/latest/\n",
    "\n",
    "# install the api pkg \n",
    "!sudo pip3 install pyspark\n",
    "!sudo pip3 install stackapi"
   ]
  },
  {
   "cell_type": "code",
   "execution_count": null,
   "metadata": {
    "colab": {
     "base_uri": "https://localhost:8080/"
    },
    "id": "QWwXrkx5Jiiw",
    "outputId": "d8f05f31-2a81-4747-d798-e0cfedc650b3"
   },
   "outputs": [
    {
     "name": "stdout",
     "output_type": "stream",
     "text": [
      "Error: unable to send email\n"
     ]
    }
   ],
   "source": [
    "##import required libraries\n",
    "\n",
    "import time\n",
    "import datetime\n",
    "import pandas as pd\n",
    "import pyspark.sql\n",
    "from stackapi import StackAPI # import the API wrapper\n",
    "from stackapi import StackAPIError # import error methods for debugging\n",
    "\n",
    "\n",
    "# create spark session\n",
    "spark = pyspark.sql.SparkSession \\\n",
    "        .builder \\\n",
    "        .appName(\"Packt Python Spark - StackOverflow Wrapper\") \\\n",
    "        .getOrCreate()\n",
    "\n",
    "# connect to the stackoverflow API using python wrapper\n",
    "def stackoverflow_connect():\n",
    "  try:\n",
    "    # create a SITE object to query upon\n",
    "    SITE = StackAPI('stackoverflow')\n",
    "    SITE.page_size = 100\n",
    "    SITE.max_pages=50 # this number would have to be tweaked\n",
    "  except StackAPIError as e:\n",
    "    print(e.message)\n",
    "  return SITE\n",
    "\n",
    "# get the json object for the current month \n",
    "def fetch_questions_JSON(SITE):\n",
    "  # month_begin = int(datetime.datetime.now().replace(day = 1).timestamp())   # get the timestamp of the beginning of current month based on when the query is run  \n",
    "  now = int(datetime.datetime.now().timestamp())   # get the timestamp of the current times based on when the query is run\n",
    "  month_begin = int((datetime.datetime.now() - datetime.timedelta(30)).timestamp()) # use a timedelta to get the data 30 days ago from current date\n",
    "\n",
    "  # get a JSON load of all the question in a timeframe ** \n",
    "  questions = SITE.fetch('questions' , fromdate = month_begin , todate = now\n",
    "                        #  , min = 20\n",
    "                        #  , tagged = 'python'\n",
    "                        , sort = 'votes')\n",
    "  return questions \n",
    "\n",
    "# read the json file into a pandas DF\n",
    "def json_df_redux(questions):\n",
    "  # pull the items from the JSON questions field \n",
    "  df = pd.json_normalize(questions['items'])\n",
    "  return df\n",
    "\n",
    "\n",
    "# upload the raw df into database using spark (intentionally left blank)\n",
    "def load_raw_df_to_db(df):\n",
    "  # conver the pandas df into spark df \n",
    "  raw_spark_df = spark.createDataFrame(df)\n",
    "  mode = \"overwrite\"\n",
    "  url = \"jdbc:redshift://localhost:5432/etl_pipeline\"\n",
    "  properties = {\"user\": \"<username>\",\n",
    "                \"password\": \"<password>\",\n",
    "                \"driver\": \"org.redshift.Driver\"\n",
    "                }\n",
    "  raw_spark_df.write.jdbc(url=url,\n",
    "                table = \"raw_stackoverflow_questions\",\n",
    "                mode = mode,\n",
    "                properties = properties)\n",
    "\n",
    "# lets transform the questions pandas df to make some more insights about the tags\n",
    "\n",
    "def tag_enrichment(df):\n",
    "  df1 = df.explode('tags') # we are explosing the tags column into rows to get each tag detail\n",
    "  monthly_top_20_tags = df1['tags'].value_counts()[:20]\n",
    "  monthly_top_20_tags = monthly_top_20_tags.to_frame()\n",
    "  return monthly_top_20_tags\n",
    "\n",
    "# lastly, send this top 20 tags as an email to a distro or use the load_raw_df_to_db function above to push it to desired database\n",
    "def email_tag_data(df):\n",
    "  import smtplib\n",
    "  sender = 'tajal.walia@gmail.com'\n",
    "  receivers = ['curious@packt.com']\n",
    "  message = \"\"\"From: From Tajal\n",
    "  To: Packt\n",
    "  Subject: top 20 stackoverflow tags this month\n",
    "  {}\n",
    "  \"\"\".format(df)\n",
    "\n",
    "  try:\n",
    "    smtpObj = smtplib.SMTP('localhost')\n",
    "    smtpObj.sendmail(sender, receivers, message)         \n",
    "    print(\"Successfully sent email\")\n",
    "  except:\n",
    "    print(\"Error: unable to send email\")\n",
    "\n",
    "\n",
    "if __name__ == \"__main__\":\n",
    "    SITE = stackoverflow_connect()\n",
    "    questions = fetch_questions_JSON(SITE)\n",
    "    df = json_df_redux(questions)\n",
    "    # load_raw_df_to_db(df) # optional step to push the raw dataframe into database of choice\n",
    "    top_tags = tag_enrichment(df)\n",
    "    email_tag_data(top_tags)\n",
    "\n",
    "\n",
    "\n",
    "# -------- -------- airflow implementation of DAG -------- --------\n",
    "\n",
    "# from airflow import DAG\n",
    "# from airflow.operators.bash_operator import BashOperator\n",
    "# from airflow.operators.python_operator import PythonOperator\n",
    "\n",
    "# default_args = {'owner': 'tajal_ahluwalia','start_date': dt.datetime(2021, 6, 1),'retries': 3,'retry_delay': dt.timedelta(minutes=5)}\n",
    "\n",
    "# with DAG('MyDBdag', default_args=default_args, schedule_interval=timedelta(minutes=5) , '0 0 1 * *') as dag:\n",
    "#   SITE = stackoverflow_connect()\n",
    "#   questions = fetch_questions_JSON(SITE)\n",
    "#   df = json_df_redux(questions)\n",
    "#   # load_raw_df_to_db(df) # optional step to push the raw dataframe into database of choice\n",
    "#   tag_enrichment(df)"
   ]
  },
  {
   "cell_type": "markdown",
   "metadata": {
    "id": "IcSbLBqEgjFM"
   },
   "source": [
    "Test the functions locally"
   ]
  },
  {
   "cell_type": "code",
   "execution_count": null,
   "metadata": {
    "id": "7btSEoauDy-r"
   },
   "outputs": [],
   "source": [
    "# demo of some functions\n",
    "\n",
    "SITE = stackoverflow_connect()\n",
    "questions = fetch_questions_JSON(SITE)\n",
    "df = json_df_redux(questions)\n",
    "# load_raw_df_to_db(df) # optional step to push the raw dataframe into database of choice\n",
    "top_tags = tag_enrichment(df)"
   ]
  },
  {
   "cell_type": "markdown",
   "metadata": {
    "id": "DAcRFTybgm-e"
   },
   "source": [
    "Outputs"
   ]
  },
  {
   "cell_type": "code",
   "execution_count": null,
   "metadata": {
    "colab": {
     "base_uri": "https://localhost:8080/",
     "height": 301
    },
    "id": "tBPn9OVLeoWh",
    "outputId": "2cbd7711-ab98-422c-8e96-438a78320c91"
   },
   "outputs": [
    {
     "data": {
      "text/html": [
       "<div>\n",
       "<style scoped>\n",
       "    .dataframe tbody tr th:only-of-type {\n",
       "        vertical-align: middle;\n",
       "    }\n",
       "\n",
       "    .dataframe tbody tr th {\n",
       "        vertical-align: top;\n",
       "    }\n",
       "\n",
       "    .dataframe thead th {\n",
       "        text-align: right;\n",
       "    }\n",
       "</style>\n",
       "<table border=\"1\" class=\"dataframe\">\n",
       "  <thead>\n",
       "    <tr style=\"text-align: right;\">\n",
       "      <th></th>\n",
       "      <th>tags</th>\n",
       "      <th>is_answered</th>\n",
       "      <th>view_count</th>\n",
       "      <th>accepted_answer_id</th>\n",
       "      <th>answer_count</th>\n",
       "      <th>score</th>\n",
       "      <th>last_activity_date</th>\n",
       "      <th>creation_date</th>\n",
       "      <th>last_edit_date</th>\n",
       "      <th>question_id</th>\n",
       "      <th>content_license</th>\n",
       "      <th>link</th>\n",
       "      <th>title</th>\n",
       "      <th>owner.reputation</th>\n",
       "      <th>owner.user_id</th>\n",
       "      <th>owner.user_type</th>\n",
       "      <th>owner.accept_rate</th>\n",
       "      <th>owner.profile_image</th>\n",
       "      <th>owner.display_name</th>\n",
       "      <th>owner.link</th>\n",
       "      <th>protected_date</th>\n",
       "      <th>closed_date</th>\n",
       "      <th>closed_reason</th>\n",
       "      <th>bounty_amount</th>\n",
       "      <th>bounty_closes_date</th>\n",
       "      <th>locked_date</th>\n",
       "      <th>migrated_to.other_site.styling.tag_background_color</th>\n",
       "      <th>migrated_to.other_site.styling.tag_foreground_color</th>\n",
       "      <th>migrated_to.other_site.styling.link_color</th>\n",
       "      <th>migrated_to.other_site.related_sites</th>\n",
       "      <th>migrated_to.other_site.markdown_extensions</th>\n",
       "      <th>migrated_to.other_site.launch_date</th>\n",
       "      <th>migrated_to.other_site.open_beta_date</th>\n",
       "      <th>migrated_to.other_site.closed_beta_date</th>\n",
       "      <th>migrated_to.other_site.site_state</th>\n",
       "      <th>migrated_to.other_site.high_resolution_icon_url</th>\n",
       "      <th>migrated_to.other_site.twitter_account</th>\n",
       "      <th>migrated_to.other_site.favicon_url</th>\n",
       "      <th>migrated_to.other_site.icon_url</th>\n",
       "      <th>migrated_to.other_site.audience</th>\n",
       "      <th>migrated_to.other_site.site_url</th>\n",
       "      <th>migrated_to.other_site.api_site_parameter</th>\n",
       "      <th>migrated_to.other_site.logo_url</th>\n",
       "      <th>migrated_to.other_site.name</th>\n",
       "      <th>migrated_to.other_site.site_type</th>\n",
       "      <th>migrated_to.on_date</th>\n",
       "      <th>migrated_to.question_id</th>\n",
       "    </tr>\n",
       "  </thead>\n",
       "  <tbody>\n",
       "    <tr>\n",
       "      <th>0</th>\n",
       "      <td>[c++, memory-management, syntax, language-lawy...</td>\n",
       "      <td>True</td>\n",
       "      <td>8984</td>\n",
       "      <td>67578203.0</td>\n",
       "      <td>6</td>\n",
       "      <td>103</td>\n",
       "      <td>1621720198</td>\n",
       "      <td>1621294448</td>\n",
       "      <td>1.621720e+09</td>\n",
       "      <td>67578185</td>\n",
       "      <td>CC BY-SA 4.0</td>\n",
       "      <td>https://stackoverflow.com/questions/67578185/w...</td>\n",
       "      <td>Why does the delete[] syntax exist in C++?</td>\n",
       "      <td>3275.0</td>\n",
       "      <td>888715.0</td>\n",
       "      <td>registered</td>\n",
       "      <td>77.0</td>\n",
       "      <td>https://www.gravatar.com/avatar/5ee3d698e7783a...</td>\n",
       "      <td>awiebe</td>\n",
       "      <td>https://stackoverflow.com/users/888715/awiebe</td>\n",
       "      <td>NaN</td>\n",
       "      <td>NaN</td>\n",
       "      <td>NaN</td>\n",
       "      <td>NaN</td>\n",
       "      <td>NaN</td>\n",
       "      <td>NaN</td>\n",
       "      <td>NaN</td>\n",
       "      <td>NaN</td>\n",
       "      <td>NaN</td>\n",
       "      <td>NaN</td>\n",
       "      <td>NaN</td>\n",
       "      <td>NaN</td>\n",
       "      <td>NaN</td>\n",
       "      <td>NaN</td>\n",
       "      <td>NaN</td>\n",
       "      <td>NaN</td>\n",
       "      <td>NaN</td>\n",
       "      <td>NaN</td>\n",
       "      <td>NaN</td>\n",
       "      <td>NaN</td>\n",
       "      <td>NaN</td>\n",
       "      <td>NaN</td>\n",
       "      <td>NaN</td>\n",
       "      <td>NaN</td>\n",
       "      <td>NaN</td>\n",
       "      <td>NaN</td>\n",
       "      <td>NaN</td>\n",
       "    </tr>\n",
       "    <tr>\n",
       "      <th>1</th>\n",
       "      <td>[android, android-studio, kotlin, android-stud...</td>\n",
       "      <td>True</td>\n",
       "      <td>16160</td>\n",
       "      <td>67400706.0</td>\n",
       "      <td>13</td>\n",
       "      <td>94</td>\n",
       "      <td>1622375440</td>\n",
       "      <td>1620212564</td>\n",
       "      <td>1.620260e+09</td>\n",
       "      <td>67400029</td>\n",
       "      <td>CC BY-SA 4.0</td>\n",
       "      <td>https://stackoverflow.com/questions/67400029/c...</td>\n",
       "      <td>Can&amp;#39;t create new Kotlin project after upda...</td>\n",
       "      <td>1067.0</td>\n",
       "      <td>13833626.0</td>\n",
       "      <td>registered</td>\n",
       "      <td>NaN</td>\n",
       "      <td>https://lh3.googleusercontent.com/a-/AOh14GgzV...</td>\n",
       "      <td>TEN_KUNG</td>\n",
       "      <td>https://stackoverflow.com/users/13833626/ten-kung</td>\n",
       "      <td>NaN</td>\n",
       "      <td>NaN</td>\n",
       "      <td>NaN</td>\n",
       "      <td>NaN</td>\n",
       "      <td>NaN</td>\n",
       "      <td>NaN</td>\n",
       "      <td>NaN</td>\n",
       "      <td>NaN</td>\n",
       "      <td>NaN</td>\n",
       "      <td>NaN</td>\n",
       "      <td>NaN</td>\n",
       "      <td>NaN</td>\n",
       "      <td>NaN</td>\n",
       "      <td>NaN</td>\n",
       "      <td>NaN</td>\n",
       "      <td>NaN</td>\n",
       "      <td>NaN</td>\n",
       "      <td>NaN</td>\n",
       "      <td>NaN</td>\n",
       "      <td>NaN</td>\n",
       "      <td>NaN</td>\n",
       "      <td>NaN</td>\n",
       "      <td>NaN</td>\n",
       "      <td>NaN</td>\n",
       "      <td>NaN</td>\n",
       "      <td>NaN</td>\n",
       "      <td>NaN</td>\n",
       "    </tr>\n",
       "  </tbody>\n",
       "</table>\n",
       "</div>"
      ],
      "text/plain": [
       "                                                tags  ...  migrated_to.question_id\n",
       "0  [c++, memory-management, syntax, language-lawy...  ...                      NaN\n",
       "1  [android, android-studio, kotlin, android-stud...  ...                      NaN\n",
       "\n",
       "[2 rows x 47 columns]"
      ]
     },
     "execution_count": 4,
     "metadata": {
      "tags": []
     },
     "output_type": "execute_result"
    }
   ],
   "source": [
    "# the raw dataframe\n",
    "df.head(2)"
   ]
  },
  {
   "cell_type": "code",
   "execution_count": null,
   "metadata": {
    "colab": {
     "base_uri": "https://localhost:8080/",
     "height": 204
    },
    "id": "e3PCtNJIepiA",
    "outputId": "2f5a9a58-3c9e-4b27-fa8c-f367a08bf763"
   },
   "outputs": [
    {
     "data": {
      "text/html": [
       "<div>\n",
       "<style scoped>\n",
       "    .dataframe tbody tr th:only-of-type {\n",
       "        vertical-align: middle;\n",
       "    }\n",
       "\n",
       "    .dataframe tbody tr th {\n",
       "        vertical-align: top;\n",
       "    }\n",
       "\n",
       "    .dataframe thead th {\n",
       "        text-align: right;\n",
       "    }\n",
       "</style>\n",
       "<table border=\"1\" class=\"dataframe\">\n",
       "  <thead>\n",
       "    <tr style=\"text-align: right;\">\n",
       "      <th></th>\n",
       "      <th>tags</th>\n",
       "    </tr>\n",
       "  </thead>\n",
       "  <tbody>\n",
       "    <tr>\n",
       "      <th>python</th>\n",
       "      <td>1119</td>\n",
       "    </tr>\n",
       "    <tr>\n",
       "      <th>javascript</th>\n",
       "      <td>522</td>\n",
       "    </tr>\n",
       "    <tr>\n",
       "      <th>pandas</th>\n",
       "      <td>356</td>\n",
       "    </tr>\n",
       "    <tr>\n",
       "      <th>c++</th>\n",
       "      <td>324</td>\n",
       "    </tr>\n",
       "    <tr>\n",
       "      <th>r</th>\n",
       "      <td>305</td>\n",
       "    </tr>\n",
       "  </tbody>\n",
       "</table>\n",
       "</div>"
      ],
      "text/plain": [
       "            tags\n",
       "python      1119\n",
       "javascript   522\n",
       "pandas       356\n",
       "c++          324\n",
       "r            305"
      ]
     },
     "execution_count": 5,
     "metadata": {
      "tags": []
     },
     "output_type": "execute_result"
    }
   ],
   "source": [
    "# top trending tags appearing in StackOverFlow this month\n",
    "\n",
    "top_tags.head(5)"
   ]
  },
  {
   "cell_type": "code",
   "execution_count": null,
   "metadata": {
    "id": "RJslaX_ke1eM"
   },
   "outputs": [],
   "source": []
  },
  {
   "cell_type": "code",
   "execution_count": null,
   "metadata": {
    "id": "xxfh3x78hVmh"
   },
   "outputs": [],
   "source": []
  }
 ],
 "metadata": {
  "colab": {
   "name": "Packt Assessment - Tajal",
   "provenance": []
  },
  "kernelspec": {
   "display_name": "Python 3",
   "language": "python",
   "name": "python3"
  },
  "language_info": {
   "codemirror_mode": {
    "name": "ipython",
    "version": 3
   },
   "file_extension": ".py",
   "mimetype": "text/x-python",
   "name": "python",
   "nbconvert_exporter": "python",
   "pygments_lexer": "ipython3",
   "version": "3.8.8"
  }
 },
 "nbformat": 4,
 "nbformat_minor": 1
}
